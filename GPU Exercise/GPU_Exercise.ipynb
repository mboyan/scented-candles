{
  "cells": [
    {
      "cell_type": "markdown",
      "metadata": {
        "id": "_F4PbXYGx5NL"
      },
      "source": [
        "# GPU Exercise"
      ]
    },
    {
      "cell_type": "code",
      "source": [
        "# Check CUDA version\n",
        "!nvcc --version"
      ],
      "metadata": {
        "colab": {
          "base_uri": "https://localhost:8080/"
        },
        "id": "CRUDe_Op1zd2",
        "outputId": "c66fae83-f6c8-412d-c2dc-e12c6a4b6757"
      },
      "execution_count": 1,
      "outputs": [
        {
          "output_type": "stream",
          "name": "stdout",
          "text": [
            "nvcc: NVIDIA (R) Cuda compiler driver\n",
            "Copyright (c) 2005-2023 NVIDIA Corporation\n",
            "Built on Tue_Aug_15_22:02:13_PDT_2023\n",
            "Cuda compilation tools, release 12.2, V12.2.140\n",
            "Build cuda_12.2.r12.2/compiler.33191640_0\n"
          ]
        }
      ]
    },
    {
      "cell_type": "code",
      "execution_count": 2,
      "metadata": {
        "id": "_oGT1ed5x5NM"
      },
      "outputs": [],
      "source": [
        "# ---- Needed for Google Colab -----\n",
        "# !apt install -y --no-install-recommends -q nvidia-cuda-toolkit\n",
        "# !pip3 install numba\n",
        "\n",
        "# # add the CUDA-toolkit and NVIDIA paths to the environment variables\n",
        "# import os\n",
        "# os.environ['NUMBAPRO_LIBDEVICE'] = \"/usr/lib/nvidia-cuda-toolkit/libdevice\"\n",
        "# os.environ['NUMBAPRO_NVVM'] = \"/usr/lib/x86_64-linux-gnu/libnvvm.so\"\n",
        "# ----------\n",
        "\n",
        "from IPython.display import clear_output\n",
        "from IPython.core.display import HTML\n",
        "import numpy as np\n",
        "from numba import jit, cuda, float32\n",
        "# %matplotlib.inline\n",
        "import matplotlib.pyplot as plt\n",
        "import time\n",
        "\n",
        "# clean up\n",
        "clear_output()"
      ]
    },
    {
      "cell_type": "markdown",
      "metadata": {
        "id": "U2dpHAS6x5NO"
      },
      "source": [
        "## CPU (JIT)"
      ]
    },
    {
      "cell_type": "code",
      "execution_count": 3,
      "metadata": {
        "colab": {
          "base_uri": "https://localhost:8080/"
        },
        "id": "X--0lpqmx5NO",
        "outputId": "68a5d452-5c0a-4401-ee3d-8ec956be272f"
      },
      "outputs": [
        {
          "output_type": "stream",
          "name": "stderr",
          "text": [
            "<ipython-input-3-62a602c2472f>:1: NumbaDeprecationWarning: The 'nopython' keyword argument was not supplied to the 'numba.jit' decorator. The implicit default value for this argument is currently False, but it will be changed to True in Numba 0.59.0. See https://numba.readthedocs.io/en/stable/reference/deprecation.html#deprecation-of-object-mode-fall-back-behaviour-when-using-jit for details.\n",
            "  @jit() # this decorator means we JIT compile this function, making it much faster\n"
          ]
        }
      ],
      "source": [
        "@jit() # this decorator means we JIT compile this function, making it much faster\n",
        "def jacobi_CPU(system_old, system_new):\n",
        "    \"\"\"\n",
        "    Does one Jacobi iteration, sequantial and by CPU.\n",
        "    Args:\n",
        "        system_old: the system with its concentration values\n",
        "        system_new: the system where the result will be stored\n",
        "    \"\"\"\n",
        "    for row in range(1, system_old.shape[0]-1):     # do not update boundary\n",
        "        for col in range(1, system_old.shape[1]-1): # do not update boundary\n",
        "            system_new[row, col] = 0.25 * (system_old[row + 1, col] + system_old[row - 1, col] +\n",
        "                                            system_old[row, col + 1] + system_old[row, col - 1])"
      ]
    },
    {
      "cell_type": "code",
      "execution_count": 4,
      "metadata": {
        "colab": {
          "base_uri": "https://localhost:8080/",
          "height": 432
        },
        "id": "Uri1xDtox5NP",
        "outputId": "b4b8ff47-c7f2-426e-8bc2-d350fdecee36"
      },
      "outputs": [
        {
          "output_type": "display_data",
          "data": {
            "text/plain": [
              "<Figure size 640x480 with 1 Axes>"
            ],
            "image/png": "[encoded data removed]"
          },
          "metadata": {}
        }
      ],
      "source": [
        "size = 50\n",
        "system_a = np.zeros((size + 2, size + 2))\n",
        "system_a[0] = 1\n",
        "system_b = np.copy(system_a)\n",
        "\n",
        "for _ in range(1000):\n",
        "    jacobi_CPU(system_b, system_a)\n",
        "    jacobi_CPU(system_a, system_b)\n",
        "\n",
        "plt.imshow(system_b, cmap='jet')\n",
        "plt.grid(False)\n",
        "plt.show()"
      ]
    },
    {
      "cell_type": "markdown",
      "metadata": {
        "id": "hB6hXdt2x5NQ"
      },
      "source": [
        "## GPU"
      ]
    },
    {
      "cell_type": "code",
      "execution_count": 5,
      "metadata": {
        "id": "pql-MeLIx5NQ"
      },
      "outputs": [],
      "source": [
        "@cuda.jit()\n",
        "def jacobi_GPU(system_old, system_new):\n",
        "    \"\"\"\n",
        "    Does one Jacobi iteration, parallel and by GPU.\n",
        "    Args:\n",
        "        system_old: the system with its concentration values\n",
        "        system_new: the system where the result will be stored\n",
        "    \"\"\"\n",
        "    row, col = cuda.grid(2) # get the position (row and column) on the grid\n",
        "    row += 1; col += 1      # shift up one position, so we do not update the boundary conditions\n",
        "\n",
        "    if 0 < row < system_old.shape[0] - 1 and 0 < col < system_old.shape[1] - 1:\n",
        "        system_new[row, col] = 0.25 * (system_old[row + 1, col] + system_old[row - 1, col] +\n",
        "                                        system_old[row, col + 1] + system_old[row, col - 1])"
      ]
    },
    {
      "cell_type": "markdown",
      "metadata": {
        "id": "t_PQHV-9x5NR"
      },
      "source": [
        "Below is a helper function to set the correct grid size for the GPU function."
      ]
    },
    {
      "cell_type": "code",
      "execution_count": 12,
      "metadata": {
        "id": "YKtg_w1kx5NR"
      },
      "outputs": [],
      "source": [
        "def invoke_smart_kernel(size, threads_per_block=(16,16)):\n",
        "    blocks_per_grid = tuple([(size + tpb - 1) // tpb for tpb in threads_per_block])\n",
        "    return blocks_per_grid, threads_per_block"
      ]
    },
    {
      "cell_type": "markdown",
      "metadata": {
        "id": "QgLwB7Igx5NT"
      },
      "source": [
        "## Communicate between _host_ and _device_"
      ]
    },
    {
      "cell_type": "code",
      "execution_count": 13,
      "metadata": {
        "colab": {
          "base_uri": "https://localhost:8080/",
          "height": 485
        },
        "id": "E3aUgsp1x5NT",
        "outputId": "6b074ad7-47dd-4047-8b0d-16fa18960c90"
      },
      "outputs": [
        {
          "output_type": "stream",
          "name": "stdout",
          "text": [
            "((4, 4), (16, 16))\n"
          ]
        },
        {
          "output_type": "stream",
          "name": "stderr",
          "text": [
            "/usr/local/lib/python3.10/dist-packages/numba/cuda/dispatcher.py:536: NumbaPerformanceWarning: Grid size 16 will likely result in GPU under-utilization due to low occupancy.\n",
            "  warn(NumbaPerformanceWarning(msg))\n"
          ]
        },
        {
          "output_type": "display_data",
          "data": {
            "text/plain": [
              "<Figure size 640x480 with 1 Axes>"
            ],
            "image/png": "[encoded data removed]"
          },
          "metadata": {}
        }
      ],
      "source": [
        "size = 50\n",
        "\n",
        "system_a = np.zeros((size + 2, size + 2))\n",
        "system_a[0] = 1\n",
        "system_b = np.copy(system_a)\n",
        "\n",
        "d_system_a = cuda.to_device(system_a)\n",
        "d_system_b = cuda.to_device(system_b)\n",
        "for _ in range(1000):\n",
        "    jacobi_GPU[invoke_smart_kernel(size)](d_system_b, d_system_a)\n",
        "    jacobi_GPU[invoke_smart_kernel(size)](d_system_a, d_system_b)\n",
        "\n",
        "system_b = d_system_b.copy_to_host()\n",
        "\n",
        "plt.imshow(system_b, cmap='jet')\n",
        "plt.grid(False)\n",
        "plt.show()"
      ]
    },
    {
      "cell_type": "code",
      "source": [],
      "metadata": {
        "id": "n7VpLB7X0EBn"
      },
      "execution_count": null,
      "outputs": []
    }
  ],
  "metadata": {
    "kernelspec": {
      "display_name": "Python 3",
      "name": "python3"
    },
    "language_info": {
      "codemirror_mode": {
        "name": "ipython",
        "version": 3
      },
      "file_extension": ".py",
      "mimetype": "text/x-python",
      "name": "python",
      "nbconvert_exporter": "python",
      "pygments_lexer": "ipython3",
      "version": "3.11.4"
    },
    "colab": {
      "provenance": [],
      "gpuType": "T4"
    },
    "accelerator": "GPU"
  },
  "nbformat": 4,
  "nbformat_minor": 0
}