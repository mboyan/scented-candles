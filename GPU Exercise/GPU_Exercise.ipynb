{
 "cells": [
  {
   "cell_type": "markdown",
   "metadata": {},
   "source": [
    "# GPU Exercise"
   ]
  },
  {
   "cell_type": "code",
   "execution_count": 2,
   "metadata": {},
   "outputs": [],
   "source": [
    "from IPython.display import clear_output\n",
    "from IPython.core.display import HTML\n",
    "import numpy as np\n",
    "from numba import jit, cuda, float32\n",
    "# %matplotlib.inline\n",
    "import matplotlib.pyplot as plt\n",
    "import time\n",
    "\n",
    "# clean up\n",
    "clear_output()"
   ]
  },
  {
   "cell_type": "markdown",
   "metadata": {},
   "source": [
    "## CPU (JIT)"
   ]
  },
  {
   "cell_type": "code",
   "execution_count": 7,
   "metadata": {},
   "outputs": [
    {
     "name": "stderr",
     "output_type": "stream",
     "text": [
      "C:\\Users\\mihbo\\AppData\\Local\\Temp\\ipykernel_22764\\3766524345.py:1: NumbaDeprecationWarning: \u001b[1mThe 'nopython' keyword argument was not supplied to the 'numba.jit' decorator. The implicit default value for this argument is currently False, but it will be changed to True in Numba 0.59.0. See https://numba.readthedocs.io/en/stable/reference/deprecation.html#deprecation-of-object-mode-fall-back-behaviour-when-using-jit for details.\u001b[0m\n",
      "  @jit() # this decorator means we JIT compile this function, making it much faster\n"
     ]
    }
   ],
   "source": [
    "@jit() # this decorator means we JIT compile this function, making it much faster\n",
    "def jacobi_CPU(system_old, system_new):\n",
    "    \"\"\"\n",
    "    Does one Jacobi iteration, sequantial and by CPU.\n",
    "    Args:\n",
    "        system_old: the system with its concentration values\n",
    "        system_new: the system where the result will be stored\n",
    "    \"\"\"\n",
    "    for row in range(1, system_old.shape[0]-1):     # do not update boundary\n",
    "        for col in range(1, system_old.shape[1]-1): # do not update boundary\n",
    "            system_new[row, col] = 0.25 * (system_old[row + 1, col] + system_old[row - 1, col] +\n",
    "                                            system_old[row, col + 1] + system_old[row, col - 1])"
   ]
  },
  {
   "cell_type": "code",
   "execution_count": 8,
   "metadata": {},
   "outputs": [
    {
     "data": {
      "image/png": "[encoded data removed]",
      "text/plain": [
       "<Figure size 640x480 with 1 Axes>"
      ]
     },
     "metadata": {},
     "output_type": "display_data"
    }
   ],
   "source": [
    "size = 50\n",
    "system_a = np.zeros((size + 2, size + 2))\n",
    "system_a[0] = 1\n",
    "system_b = np.copy(system_a)\n",
    "\n",
    "for _ in range(1000):\n",
    "    jacobi_CPU(system_b, system_a)\n",
    "    jacobi_CPU(system_a, system_b)\n",
    "\n",
    "plt.imshow(system_b, cmap='jet')\n",
    "plt.grid(False)\n",
    "plt.show()"
   ]
  },
  {
   "cell_type": "markdown",
   "metadata": {},
   "source": [
    "## GPU"
   ]
  },
  {
   "cell_type": "code",
   "execution_count": 9,
   "metadata": {},
   "outputs": [],
   "source": [
    "@cuda.jit()\n",
    "def jacobi_GPU(system_old, system_new):\n",
    "    \"\"\"\n",
    "    Does one Jacobi iteration, parallel and by GPU.\n",
    "    Args:\n",
    "        system_old: the system with its concentration values\n",
    "        system_new: the system where the result will be stored\n",
    "    \"\"\"\n",
    "    row, col = cuda.grid(2) # get the position (row and column) on the grid\n",
    "    row += 1; col += 1      # shift up one position, so we do not update the boundary conditions\n",
    "\n",
    "    if 0 < row < system_old.shape[0] - 1 and 0 < col < system_old.shape[1] - 1:\n",
    "        system_new[row, col] = 0.25 * (system_old[row + 1, col] + system_old[row - 1, col] + \n",
    "                                        system_old[row, col + 1] + system_old[row, col - 1])"
   ]
  },
  {
   "cell_type": "markdown",
   "metadata": {},
   "source": [
    "Below is a helper function to set the correct grid size for the GPU function."
   ]
  },
  {
   "cell_type": "code",
   "execution_count": 10,
   "metadata": {},
   "outputs": [],
   "source": [
    "def invoke_smart_kernel(size, threads_per_block=(16,16)):\n",
    "    blocks_per_grid = [(size + tpb - 1) // tpb for tpb in threads_per_block]\n",
    "    return blocks_per_grid, threads_per_block"
   ]
  },
  {
   "cell_type": "markdown",
   "metadata": {},
   "source": [
    "## Communicate between _host_ and _device_"
   ]
  },
  {
   "cell_type": "code",
   "execution_count": 11,
   "metadata": {},
   "outputs": [
    {
     "ename": "TypeError",
     "evalue": "unhashable type: 'list'",
     "output_type": "error",
     "traceback": [
      "\u001b[1;31m---------------------------------------------------------------------------\u001b[0m",
      "\u001b[1;31mTypeError\u001b[0m                                 Traceback (most recent call last)",
      "Cell \u001b[1;32mIn[11], line 10\u001b[0m\n\u001b[0;32m      8\u001b[0m d_system_b \u001b[38;5;241m=\u001b[39m cuda\u001b[38;5;241m.\u001b[39mto_device(system_b)\n\u001b[0;32m      9\u001b[0m \u001b[38;5;28;01mfor\u001b[39;00m _ \u001b[38;5;129;01min\u001b[39;00m \u001b[38;5;28mrange\u001b[39m(\u001b[38;5;241m1000\u001b[39m):\n\u001b[1;32m---> 10\u001b[0m     jacobi_GPU[invoke_smart_kernel(size)](d_system_b, d_system_a)\n\u001b[0;32m     11\u001b[0m     jacobi_GPU[invoke_smart_kernel(size)](d_system_a, d_system_b)\n\u001b[0;32m     13\u001b[0m system_b \u001b[38;5;241m=\u001b[39m d_system_b\u001b[38;5;241m.\u001b[39mcopy_to_host()\n",
      "File \u001b[1;32mc:\\Users\\mihbo\\anaconda3\\Lib\\site-packages\\numba\\cuda\\dispatcher.py:619\u001b[0m, in \u001b[0;36mCUDADispatcher.__getitem__\u001b[1;34m(self, args)\u001b[0m\n\u001b[0;32m    617\u001b[0m \u001b[38;5;28;01mif\u001b[39;00m \u001b[38;5;28mlen\u001b[39m(args) \u001b[38;5;129;01mnot\u001b[39;00m \u001b[38;5;129;01min\u001b[39;00m [\u001b[38;5;241m2\u001b[39m, \u001b[38;5;241m3\u001b[39m, \u001b[38;5;241m4\u001b[39m]:\n\u001b[0;32m    618\u001b[0m     \u001b[38;5;28;01mraise\u001b[39;00m \u001b[38;5;167;01mValueError\u001b[39;00m(\u001b[38;5;124m'\u001b[39m\u001b[38;5;124mmust specify at least the griddim and blockdim\u001b[39m\u001b[38;5;124m'\u001b[39m)\n\u001b[1;32m--> 619\u001b[0m \u001b[38;5;28;01mreturn\u001b[39;00m \u001b[38;5;28mself\u001b[39m\u001b[38;5;241m.\u001b[39mconfigure(\u001b[38;5;241m*\u001b[39margs)\n",
      "\u001b[1;31mTypeError\u001b[0m: unhashable type: 'list'"
     ]
    }
   ],
   "source": [
    "size = 50\n",
    "\n",
    "system_a = np.zeros((size + 2, size + 2))\n",
    "system_a[0] = 1\n",
    "system_b = np.copy(system_a)\n",
    "\n",
    "d_system_a = cuda.to_device(system_a)\n",
    "d_system_b = cuda.to_device(system_b)\n",
    "for _ in range(1000):\n",
    "    jacobi_GPU[invoke_smart_kernel(size)](d_system_b, d_system_a)\n",
    "    jacobi_GPU[invoke_smart_kernel(size)](d_system_a, d_system_b)\n",
    "\n",
    "system_b = d_system_b.copy_to_host()\n",
    "\n",
    "plt.imshow(system_b, cmap='jet')\n",
    "plt.grid(False)\n",
    "plt.show()"
   ]
  }
 ],
 "metadata": {
  "kernelspec": {
   "display_name": "Python 3",
   "language": "python",
   "name": "python3"
  },
  "language_info": {
   "codemirror_mode": {
    "name": "ipython",
    "version": 3
   },
   "file_extension": ".py",
   "mimetype": "text/x-python",
   "name": "python",
   "nbconvert_exporter": "python",
   "pygments_lexer": "ipython3",
   "version": "3.11.4"
  }
 },
 "nbformat": 4,
 "nbformat_minor": 2
}
