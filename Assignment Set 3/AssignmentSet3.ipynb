{
 "cells": [
  {
   "cell_type": "markdown",
   "metadata": {},
   "source": [
    "# Scientific Computing: Assignment Set 3\n",
    "_Boyan Mihaylov (15067602)_"
   ]
  },
  {
   "cell_type": "markdown",
   "metadata": {},
   "source": [
    "## 0. Imports / Preliminaries"
   ]
  },
  {
   "cell_type": "code",
   "execution_count": null,
   "metadata": {},
   "outputs": [],
   "source": [
    "import numpy as np"
   ]
  },
  {
   "cell_type": "markdown",
   "metadata": {},
   "source": [
    "## 1. Eigenmodes of Vibrating Membranes"
   ]
  },
  {
   "cell_type": "markdown",
   "metadata": {},
   "source": [
    "The waves occuring in the transverse vibration of tensioned elastic membranes, such as drums, are known to resonate in specific patterns determined by the eigenmodes and eigenfrequencies of the system. These characteristics are heavily dependent on the shape of the membrane's boundary. The first experiment explores this dependence by formulating a discrete model for solving the eigenvalue problem for membranes with different boundary geometries.\n",
    "\n",
    "The vibrations of the membrane are governed by the wave equation:\n",
    "\n",
    "$$\n",
    "\\frac{\\partial^2u}{\\partial t^2}=c^2\\nabla^2{u},\\tag{1}\n",
    "$$\n",
    "\n",
    "where $u$ is the amplitude of the transverse wave.\n",
    "\n",
    "The procedure to transform this equation into an eigenvalue problem involves a separation of variables, requiring the decomposition of the amplitude into a purely space-dependent and a purely time-dependent term:\n",
    "\n",
    "$$\n",
    "u(x,y,t)=v(x,y)T(t).\n",
    "$$\n",
    "\n",
    "This asserted formulation can be substituted into (1), yielding the equation\n",
    "\n",
    "$$\n",
    "\\frac{1}{c^2T(t)}\\frac{\\partial^2T(t)}{\\delta{t}^2}=\\frac{1}{v(x,y)}\\nabla^2{v(x,y)}.\\tag{2}\n",
    "$$\n",
    "\n",
    "With the $t$-dependent and the $(x,y)$-dependent variables separated in the two sides of the equation, it can be stated that the common value of the two sides is a constant, $K$. Expressing the left side through $K$ yields\n",
    "\n",
    "$$\n",
    "\\frac{\\partial^2T(t)}{\\delta{t}^2}=Kc^2T(t),\n",
    "$$\n",
    "\n",
    "which has an oscillating solution for $K < 0$, dependent on the eigenfrequency $\\lambda$:\n",
    "\n",
    "$$\n",
    "T(t) = A\\cos(c\\lambda t) + B\\sin(c\\lambda t).\n",
    "$$\n",
    "\n",
    "$\\lambda$ is positive and real under $K\\in\\mathbb{R}$, as it obeys the relationship $\\lambda^2=-K$. The solutions for $K=0$ and $K<0$ exhibit a static behaviour under fixed boundary conditions and an exponential growth/decay, respectively.\n",
    "\n",
    "The expression relevant for the eigenvalue problem is the right side of (2), expressed through $K$:\n",
    "\n",
    "$$\n",
    "\\nabla^2{v(x,y)}=Kv(x,y)\\tag{3},\n",
    "$$\n",
    "\n",
    "as it can be written in the form $\\bm{M}\\bm{v}=K\\bm{v}$, where $\\bm{v}$ is the vector of amplitudes $v(x,y)$, $K$ is a scalar constant and $\\bm{M}$ is derived from the finite difference approximation of the Laplacian term:\n",
    "\n",
    "$$\n",
    "\\nabla^2{v(x,y)}\\approx \\frac{1}{\\delta{x}^2}\\left[v(x+\\delta{x}, y)+v(x-\\delta{x},y)+v(x,y+\\delta{x})+v(x,y-\\delta{x})-4v(x,y)\\right],\n",
    "$$\n",
    "\n",
    "assuming that $\\delta{x}\\equiv\\delta{y}$. Representing the system through a discrete rectangular lattice of size $N_x \\times N_y$, the matrix $\\bm{M}$ is constructed from the neighbour coefficients in the finite difference scheme for the amplitude at each lattice point, $v_i$ ($i=0,\\ldots,N_x \\times N_y$). Since the factor $\\frac{1}{\\delta{x}^2}$ does not influence the eigenvalues of $\\bm{M}$, it can be disregarded. Eq. (3) can thus be expressed as:\n",
    "\n"
   ]
  }
 ],
 "metadata": {
  "language_info": {
   "name": "python"
  }
 },
 "nbformat": 4,
 "nbformat_minor": 2
}
